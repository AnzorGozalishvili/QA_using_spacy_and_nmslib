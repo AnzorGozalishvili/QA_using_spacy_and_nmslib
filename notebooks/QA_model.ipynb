{
 "cells": [
  {
   "cell_type": "markdown",
   "metadata": {},
   "source": [
    "## Imports"
   ]
  },
  {
   "cell_type": "code",
   "execution_count": 37,
   "metadata": {},
   "outputs": [],
   "source": [
    "import pandas as pd\n",
    "import os\n",
    "import json\n",
    "import re\n",
    "import spacy\n",
    "import nmslib"
   ]
  },
  {
   "cell_type": "code",
   "execution_count": 34,
   "metadata": {},
   "outputs": [
    {
     "name": "stdout",
     "output_type": "stream",
     "text": [
      "Collecting nmslib\n",
      "\u001b[?25l  Downloading https://files.pythonhosted.org/packages/e1/95/1f7c90d682b79398c5ee3f9296be8d2640fa41de24226bcf5473c801ada6/nmslib-1.7.3.6.tar.gz (255kB)\n",
      "\u001b[K    100% |████████████████████████████████| 256kB 11.8MB/s ta 0:00:01\n",
      "\u001b[?25hCollecting pybind11>=2.0 (from nmslib)\n",
      "\u001b[?25l  Downloading https://files.pythonhosted.org/packages/f2/7c/e71995e59e108799800cb0fce6c4b4927914d7eada0723dd20bae3b51786/pybind11-2.2.4-py2.py3-none-any.whl (145kB)\n",
      "\u001b[K    100% |████████████████████████████████| 153kB 42.3MB/s ta 0:00:01\n",
      "\u001b[?25hRequirement already satisfied: numpy in /home/onepanel/.conda/lib/python3.6/site-packages (from nmslib) (1.15.3)\n",
      "Building wheels for collected packages: nmslib\n",
      "  Running setup.py bdist_wheel for nmslib ... \u001b[?25lerror\n",
      "  Complete output from command /home/onepanel/.conda/bin/python -u -c \"import setuptools, tokenize;__file__='/tmp/pip-install-aizvpy22/nmslib/setup.py';f=getattr(tokenize, 'open', open)(__file__);code=f.read().replace('\\r\\n', '\\n');f.close();exec(compile(code, __file__, 'exec'))\" bdist_wheel -d /tmp/pip-wheel-pq7px92p --python-tag cp36:\n",
      "  running bdist_wheel\n",
      "  running build\n",
      "  running build_ext\n",
      "  creating tmp\n",
      "  gcc -pthread -B /home/onepanel/.conda/compiler_compat -Wl,--sysroot=/ -Wsign-compare -DNDEBUG -g -fwrapv -O3 -Wall -Wstrict-prototypes -fPIC -I/home/onepanel/.conda/include/python3.6m -c /tmp/tmpu2b6c3od.cpp -o tmp/tmpu2b6c3od.o -std=c++14\n",
      "  cc1plus: warning: command line option ‘-Wstrict-prototypes’ is valid for C/ObjC but not for C++\n",
      "  gcc -pthread -B /home/onepanel/.conda/compiler_compat -Wl,--sysroot=/ -Wsign-compare -DNDEBUG -g -fwrapv -O3 -Wall -Wstrict-prototypes -fPIC -I/home/onepanel/.conda/include/python3.6m -c /tmp/tmp947schxd.cpp -o tmp/tmp947schxd.o -fvisibility=hidden\n",
      "  cc1plus: warning: command line option ‘-Wstrict-prototypes’ is valid for C/ObjC but not for C++\n",
      "  building 'nmslib' extension\n",
      "  creating build\n",
      "  creating build/temp.linux-x86_64-3.6\n",
      "  creating build/temp.linux-x86_64-3.6/nmslib\n",
      "  creating build/temp.linux-x86_64-3.6/nmslib/similarity_search\n",
      "  creating build/temp.linux-x86_64-3.6/nmslib/similarity_search/src\n",
      "  creating build/temp.linux-x86_64-3.6/nmslib/similarity_search/src/space\n",
      "  creating build/temp.linux-x86_64-3.6/nmslib/similarity_search/src/method\n",
      "  gcc -pthread -B /home/onepanel/.conda/compiler_compat -Wl,--sysroot=/ -Wsign-compare -DNDEBUG -g -fwrapv -O3 -Wall -Wstrict-prototypes -fPIC -I./nmslib/similarity_search/include -I/home/onepanel/.conda/include/python3.6m -I/home/onepanel/.local/include/python3.6m -I/home/onepanel/.conda/lib/python3.6/site-packages/numpy/core/include -I/home/onepanel/.conda/include/python3.6m -c nmslib.cc -o build/temp.linux-x86_64-3.6/nmslib.o -O3 -march=native -fopenmp -DVERSION_INFO=\"1.7.3.6\" -std=c++14 -fvisibility=hidden\n",
      "  cc1plus: warning: command line option ‘-Wstrict-prototypes’ is valid for C/ObjC but not for C++\n",
      "  nmslib.cc:16:31: fatal error: pybind11/pybind11.h: No such file or directory\n",
      "  compilation terminated.\n",
      "  error: command 'gcc' failed with exit status 1\n",
      "  \n",
      "  ----------------------------------------\n",
      "\u001b[31m  Failed building wheel for nmslib\u001b[0m\n",
      "\u001b[?25h  Running setup.py clean for nmslib\n",
      "Failed to build nmslib\n",
      "\u001b[31mkaggle 1.5.0 has requirement urllib3<1.23.0,>=1.15, but you'll have urllib3 1.24.1 which is incompatible.\u001b[0m\n",
      "\u001b[31mfastai 1.0.18 has requirement notebook>=5.7.0, but you'll have notebook 5.6.0 which is incompatible.\u001b[0m\n",
      "\u001b[31mboto3 1.9.125 has requirement botocore<1.13.0,>=1.12.125, but you'll have botocore 1.12.93 which is incompatible.\u001b[0m\n",
      "Installing collected packages: pybind11, nmslib\n",
      "  Running setup.py install for nmslib ... \u001b[?25ldone\n",
      "\u001b[?25hSuccessfully installed nmslib-1.7.3.6 pybind11-2.2.4\n",
      "\u001b[33mYou are using pip version 10.0.1, however version 19.0.3 is available.\n",
      "You should consider upgrading via the 'pip install --upgrade pip' command.\u001b[0m\n"
     ]
    }
   ],
   "source": [
    "!pip install nmslib"
   ]
  },
  {
   "cell_type": "code",
   "execution_count": 22,
   "metadata": {},
   "outputs": [
    {
     "name": "stdout",
     "output_type": "stream",
     "text": [
      "Collecting en_core_web_sm==2.0.0 from https://github.com/explosion/spacy-models/releases/download/en_core_web_sm-2.0.0/en_core_web_sm-2.0.0.tar.gz#egg=en_core_web_sm==2.0.0\n",
      "\u001b[?25l  Downloading https://github.com/explosion/spacy-models/releases/download/en_core_web_sm-2.0.0/en_core_web_sm-2.0.0.tar.gz (37.4MB)\n",
      "\u001b[K    100% |████████████████████████████████| 37.4MB 87.5MB/s ta 0:00:01\n",
      "\u001b[?25hInstalling collected packages: en-core-web-sm\n",
      "  Running setup.py install for en-core-web-sm ... \u001b[?25ldone\n",
      "\u001b[?25hSuccessfully installed en-core-web-sm-2.0.0\n",
      "\u001b[33mYou are using pip version 10.0.1, however version 19.0.3 is available.\n",
      "You should consider upgrading via the 'pip install --upgrade pip' command.\u001b[0m\n",
      "\n",
      "\u001b[93m    Linking successful\u001b[0m\n",
      "    /home/onepanel/.conda/lib/python3.6/site-packages/en_core_web_sm -->\n",
      "    /home/onepanel/.conda/lib/python3.6/site-packages/spacy/data/en\n",
      "\n",
      "    You can now load the model via spacy.load('en')\n",
      "\n"
     ]
    }
   ],
   "source": [
    "!python -m spacy download en"
   ]
  },
  {
   "cell_type": "code",
   "execution_count": 2,
   "metadata": {},
   "outputs": [
    {
     "name": "stdout",
     "output_type": "stream",
     "text": [
      "Requirement already satisfied: xlrd in /home/onepanel/.conda/lib/python3.6/site-packages (1.2.0)\n",
      "\u001b[31mkaggle 1.5.0 has requirement urllib3<1.23.0,>=1.15, but you'll have urllib3 1.24.1 which is incompatible.\u001b[0m\n",
      "\u001b[31mfastai 1.0.18 has requirement notebook>=5.7.0, but you'll have notebook 5.6.0 which is incompatible.\u001b[0m\n",
      "\u001b[31mboto3 1.9.125 has requirement botocore<1.13.0,>=1.12.125, but you'll have botocore 1.12.93 which is incompatible.\u001b[0m\n",
      "\u001b[33mYou are using pip version 10.0.1, however version 19.0.3 is available.\n",
      "You should consider upgrading via the 'pip install --upgrade pip' command.\u001b[0m\n"
     ]
    }
   ],
   "source": [
    "!pip install xlrd"
   ]
  },
  {
   "cell_type": "markdown",
   "metadata": {},
   "source": [
    "# Read xslx file sheet"
   ]
  },
  {
   "cell_type": "code",
   "execution_count": 16,
   "metadata": {},
   "outputs": [],
   "source": [
    "data = pd.read_excel('../data/QA_(0-100).xlsx','Sheet1',  index_col=0, header=None)"
   ]
  },
  {
   "cell_type": "code",
   "execution_count": 17,
   "metadata": {},
   "outputs": [],
   "source": [
    "data = data.iloc[:, 0:2].reset_index(drop=True)"
   ]
  },
  {
   "cell_type": "code",
   "execution_count": 19,
   "metadata": {},
   "outputs": [],
   "source": [
    "data.columns = ['question', 'answer']"
   ]
  },
  {
   "cell_type": "code",
   "execution_count": 23,
   "metadata": {},
   "outputs": [
    {
     "data": {
      "text/html": [
       "<div>\n",
       "<style scoped>\n",
       "    .dataframe tbody tr th:only-of-type {\n",
       "        vertical-align: middle;\n",
       "    }\n",
       "\n",
       "    .dataframe tbody tr th {\n",
       "        vertical-align: top;\n",
       "    }\n",
       "\n",
       "    .dataframe thead th {\n",
       "        text-align: right;\n",
       "    }\n",
       "</style>\n",
       "<table border=\"1\" class=\"dataframe\">\n",
       "  <thead>\n",
       "    <tr style=\"text-align: right;\">\n",
       "      <th></th>\n",
       "      <th>question</th>\n",
       "      <th>answer</th>\n",
       "    </tr>\n",
       "  </thead>\n",
       "  <tbody>\n",
       "    <tr>\n",
       "      <th>0</th>\n",
       "      <td>Carl and the Passions changed band name to what</td>\n",
       "      <td>Beach Boys</td>\n",
       "    </tr>\n",
       "    <tr>\n",
       "      <th>1</th>\n",
       "      <td>How many rings on the Olympic flag</td>\n",
       "      <td>Five</td>\n",
       "    </tr>\n",
       "  </tbody>\n",
       "</table>\n",
       "</div>"
      ],
      "text/plain": [
       "                                          question      answer\n",
       "0  Carl and the Passions changed band name to what  Beach Boys\n",
       "1               How many rings on the Olympic flag        Five"
      ]
     },
     "execution_count": 23,
     "metadata": {},
     "output_type": "execute_result"
    }
   ],
   "source": [
    "data.head(2)"
   ]
  },
  {
   "cell_type": "markdown",
   "metadata": {},
   "source": [
    "# Create QA model class"
   ]
  },
  {
   "cell_type": "code",
   "execution_count": 70,
   "metadata": {},
   "outputs": [],
   "source": [
    "class QA(object):\n",
    "    def __init__(self, data):\n",
    "        self.nlp = spacy.load('en')\n",
    "        self.questions = data.question.tolist()\n",
    "        self.answers = data.answer.tolist()\n",
    "    \n",
    "    def to_vectors(self, texts):\n",
    "        \"\"\"Convert texts into their vectors\"\"\"\n",
    "        result = []\n",
    "        for item in texts:\n",
    "            result.append(self.nlp(item).vector)\n",
    "        \n",
    "        return result\n",
    "            \n",
    "    def build_nmslib_index(self):\n",
    "        \"\"\"build nmslib index with vectors of question texts\"\"\"\n",
    "        self.index = {}\n",
    "        self.index = nmslib.init(method='hnsw', space='cosinesimil')\n",
    "        self.index.addDataPointBatch(self.to_vectors(self.questions))\n",
    "        self.index.createIndex({'post': 2}, print_progress=True)\n",
    "        \n",
    "    def search(self, text, max_distance=0.2):\n",
    "        \"\"\"\n",
    "        K-Nearest-Neighbour search over indexed taxonomy data and distance threshold parameter \n",
    "        to get most similar one. \n",
    "        Args:\n",
    "            text: (str) sample question text\n",
    "            max_distance: (float) maximum allowed distance for neighbours\n",
    "\n",
    "        Returns:\n",
    "            result: (tuple) index and distance for found item\n",
    "\n",
    "        \"\"\"\n",
    "        result = {}\n",
    "        vector = self.nlp(text).vector\n",
    "        \n",
    "        if vector is not None:\n",
    "            ids, distances = self.index.knnQuery(vector)\n",
    "            \n",
    "            if ids is not None and distances is not None:\n",
    "                best_indices_mask = (distances == distances.min()) & (distances < max_distance)\n",
    "                if best_indices_mask.sum() != 0:\n",
    "                    result = {'index': ids[best_indices_mask][0], 'distance': distances[best_indices_mask][0]}\n",
    "\n",
    "        return result\n",
    "    \n",
    "    def query(self, question, max_distance=0.2):\n",
    "        search_result = self.search(question, max_distance)\n",
    "        index, distance = search_result.get('index', -1), search_result.get('distance', -1)\n",
    "        result = \"N/A\"\n",
    "        if index != -1:\n",
    "            result = self.answers[index]\n",
    "        \n",
    "        return result"
   ]
  },
  {
   "cell_type": "code",
   "execution_count": 71,
   "metadata": {},
   "outputs": [],
   "source": [
    "qa = QA(data)\n",
    "qa.build_nmslib_index()"
   ]
  },
  {
   "cell_type": "code",
   "execution_count": 85,
   "metadata": {},
   "outputs": [
    {
     "data": {
      "text/plain": [
       "'Beach Boys'"
      ]
     },
     "execution_count": 85,
     "metadata": {},
     "output_type": "execute_result"
    }
   ],
   "source": [
    "qa.query('Carl and the Passions day changed band name to what', max_distance=0.05)"
   ]
  },
  {
   "cell_type": "code",
   "execution_count": 58,
   "metadata": {},
   "outputs": [
    {
     "data": {
      "text/html": [
       "<div>\n",
       "<style scoped>\n",
       "    .dataframe tbody tr th:only-of-type {\n",
       "        vertical-align: middle;\n",
       "    }\n",
       "\n",
       "    .dataframe tbody tr th {\n",
       "        vertical-align: top;\n",
       "    }\n",
       "\n",
       "    .dataframe thead th {\n",
       "        text-align: right;\n",
       "    }\n",
       "</style>\n",
       "<table border=\"1\" class=\"dataframe\">\n",
       "  <thead>\n",
       "    <tr style=\"text-align: right;\">\n",
       "      <th></th>\n",
       "      <th>question</th>\n",
       "      <th>answer</th>\n",
       "    </tr>\n",
       "  </thead>\n",
       "  <tbody>\n",
       "    <tr>\n",
       "      <th>0</th>\n",
       "      <td>Carl and the Passions changed band name to what</td>\n",
       "      <td>Beach Boys</td>\n",
       "    </tr>\n",
       "    <tr>\n",
       "      <th>1</th>\n",
       "      <td>How many rings on the Olympic flag</td>\n",
       "      <td>Five</td>\n",
       "    </tr>\n",
       "  </tbody>\n",
       "</table>\n",
       "</div>"
      ],
      "text/plain": [
       "                                          question      answer\n",
       "0  Carl and the Passions changed band name to what  Beach Boys\n",
       "1               How many rings on the Olympic flag        Five"
      ]
     },
     "execution_count": 58,
     "metadata": {},
     "output_type": "execute_result"
    }
   ],
   "source": [
    "data.head(2)"
   ]
  },
  {
   "cell_type": "code",
   "execution_count": 59,
   "metadata": {},
   "outputs": [],
   "source": [
    "preds = data.question.apply(lambda x: qa.query(x))"
   ]
  }
 ],
 "metadata": {
  "kernelspec": {
   "display_name": "Python 3",
   "language": "python",
   "name": "python3"
  },
  "language_info": {
   "codemirror_mode": {
    "name": "ipython",
    "version": 3
   },
   "file_extension": ".py",
   "mimetype": "text/x-python",
   "name": "python",
   "nbconvert_exporter": "python",
   "pygments_lexer": "ipython3",
   "version": "3.6.5"
  }
 },
 "nbformat": 4,
 "nbformat_minor": 2
}
